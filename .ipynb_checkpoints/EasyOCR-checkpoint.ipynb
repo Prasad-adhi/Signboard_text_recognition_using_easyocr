{
 "cells": [
  {
   "cell_type": "code",
   "execution_count": 1,
   "metadata": {},
   "outputs": [],
   "source": [
    "import matplotlib.pyplot as plt\n",
    "import cv2\n",
    "import easyocr\n",
    "from pylab import rcParams\n",
    "from IPython.display import Image\n",
    "import numpy as np\n",
    "rcParams['figure.figsize']=8,16"
   ]
  },
  {
   "cell_type": "code",
   "execution_count": 11,
   "metadata": {},
   "outputs": [],
   "source": [
    "#reader=easyocr.Reader(['en'])"
   ]
  },
  {
   "cell_type": "code",
   "execution_count": 47,
   "metadata": {},
   "outputs": [
    {
     "name": "stderr",
     "output_type": "stream",
     "text": [
      "Using CPU. Note: This module is much faster with a GPU.\n",
      "Downloading recognition model, please wait. This may take several minutes depending upon your network connection.\n"
     ]
    },
    {
     "name": "stdout",
     "output_type": "stream",
     "text": [
      "Progress: |██████████████████████████████████████████████████| 100.0% Complete\r"
     ]
    }
   ],
   "source": [
    "reader1=easyocr.Reader(['kn'],gpu=False)"
   ]
  },
  {
   "cell_type": "code",
   "execution_count": 59,
   "metadata": {},
   "outputs": [
    {
     "data": {
      "image/jpeg": "[encoded data removed]",
      "text/plain": [
       "<IPython.core.display.Image object>"
      ]
     },
     "execution_count": 59,
     "metadata": {},
     "output_type": "execute_result"
    }
   ],
   "source": [
    "path=\"Kannada/4.jpg\"\n",
    "Image(path)"
   ]
  },
  {
   "cell_type": "code",
   "execution_count": 60,
   "metadata": {},
   "outputs": [],
   "source": [
    "output=reader1.readtext(path)"
   ]
  },
  {
   "cell_type": "code",
   "execution_count": 61,
   "metadata": {},
   "outputs": [
    {
     "data": {
      "text/plain": [
       "[([[79, 79], [247, 79], [247, 99], [79, 99]],\n",
       "  'ಕರ್ನಾಟಕ ಉಚ್ಯ ನ್ಯಾಯಾಲಯ',\n",
       "  0.09664593636989594),\n",
       " ([[71, 98], [257, 98], [257, 118], [71, 118]],\n",
       "  '}3ಾ (0=೪1 05 ^4೪ೈ^[4^^',\n",
       "  3.2009713777370052e-06),\n",
       " ([[13.057428275285472, 16.50337089551385],\n",
       "   [128.66938004438433, 4.407627527908694],\n",
       "   [130.94257172471453, 41.49662910448615],\n",
       "   [15.330619955615687, 53.592372472091306]],\n",
       "  '~6452.53',\n",
       "  0.056821707636117935)]"
      ]
     },
     "execution_count": 61,
     "metadata": {},
     "output_type": "execute_result"
    }
   ],
   "source": [
    "output\n"
   ]
  },
  {
   "cell_type": "code",
   "execution_count": 18,
   "metadata": {},
   "outputs": [
    {
     "name": "stdout",
     "output_type": "stream",
     "text": [
      "Adambon \n"
     ]
    }
   ],
   "source": [
    "from google_trans_new import google_translator  \n",
    "translator = google_translator()  \n",
    "translate_text = translator.translate(output[0][1],lang_tgt='en')  \n",
    "print(translate_text)"
   ]
  },
  {
   "cell_type": "code",
   "execution_count": 62,
   "metadata": {},
   "outputs": [
    {
     "name": "stdout",
     "output_type": "stream",
     "text": [
      "ಕರ್ನಾಟಕ ಉಚ್ಯ ನ್ಯಾಯಾಲಯ\n",
      "}3ಾ (0=೪1 05 ^4೪ೈ^[4^^\n",
      "~6452.53\n"
     ]
    }
   ],
   "source": [
    "for i in output:\n",
    "    print(i[1])"
   ]
  },
  {
   "cell_type": "code",
   "execution_count": null,
   "metadata": {},
   "outputs": [],
   "source": []
  }
 ],
 "metadata": {
  "kernelspec": {
   "display_name": "Python 3",
   "language": "python",
   "name": "python3"
  },
  "language_info": {
   "codemirror_mode": {
    "name": "ipython",
    "version": 3
   },
   "file_extension": ".py",
   "mimetype": "text/x-python",
   "name": "python",
   "nbconvert_exporter": "python",
   "pygments_lexer": "ipython3",
   "version": "3.7.6"
  }
 },
 "nbformat": 4,
 "nbformat_minor": 4
}
