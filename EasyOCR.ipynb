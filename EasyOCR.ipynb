{
 "cells": [
  {
   "cell_type": "code",
   "execution_count": 1,
   "metadata": {},
   "outputs": [],
   "source": [
    "import matplotlib.pyplot as plt\n",
    "import cv2\n",
    "import easyocr\n",
    "from pylab import rcParams\n",
    "from IPython.display import Image\n",
    "import numpy as np\n",
    "rcParams['figure.figsize']=8,16"
   ]
  },
  {
   "cell_type": "code",
   "execution_count": 11,
   "metadata": {},
   "outputs": [],
   "source": [
    "#reader=easyocr.Reader(['en'])"
   ]
  },
  {
   "cell_type": "markdown",
   "metadata": {},
   "source": [
    "# Tamil"
   ]
  },
  {
   "cell_type": "code",
   "execution_count": 18,
   "metadata": {},
   "outputs": [
    {
     "name": "stderr",
     "output_type": "stream",
     "text": [
      "Using CPU. Note: This module is much faster with a GPU.\n"
     ]
    }
   ],
   "source": [
    "reader1=easyocr.Reader(['ta'],gpu=False)"
   ]
  },
  {
   "cell_type": "code",
   "execution_count": 36,
   "metadata": {},
   "outputs": [],
   "source": [
    "path=\"Tamil/1.png\"\n"
   ]
  },
  {
   "cell_type": "code",
   "execution_count": 34,
   "metadata": {},
   "outputs": [],
   "source": [
    "output=reader1.readtext(path)"
   ]
  },
  {
   "cell_type": "code",
   "execution_count": 35,
   "metadata": {},
   "outputs": [
    {
     "data": {
      "text/plain": [
       "[([[406, 63], [443, 63], [443, 77], [406, 77]],\n",
       "  'ச2ம ம',\n",
       "  0.0008363859378732741),\n",
       " ([[122, 92], [246, 92], [246, 116], [122, 116]],\n",
       "  '30 ஸ 12 3றந^)',\n",
       "  0.00017668101645540446),\n",
       " ([[10, 126], [32, 126], [32, 174], [10, 174]], '=', 0.1974031627178192),\n",
       " ([[60, 153], [416, 153], [416, 227], [60, 227]],\n",
       "  'அனுமதி இல்லை',\n",
       "  0.457141250371933),\n",
       " ([[229.16921695377152, 51.11845186764006],\n",
       "   [402.13096413685133, -32.651391116255716],\n",
       "   [444.8307830462285, 57.88154813235994],\n",
       "   [271.86903586314867, 143.65139111625572]],\n",
       "  'ஃஇ ',\n",
       "  0.006576841697096825),\n",
       " ([[25.072960704010875, 93.08669173125764],\n",
       "   [136.02271067202406, 11.017134173332996],\n",
       "   [156.92703929598912, 49.913308268742355],\n",
       "   [44.97728932797594, 130.982865826667]],\n",
       "  'ஏ5=ௌ}ொ',\n",
       "  0.00193494011182338),\n",
       " ([[23.31215814362656, 341.0475386341112],\n",
       "   [159.10574457900813, 238.08153721340096],\n",
       "   [181.68784185637344, 278.9524613658888],\n",
       "   [45.89425542099187, 380.91846278659904]],\n",
       "  '$:95=ௌ}',\n",
       "  0.0006669640424661338)]"
      ]
     },
     "execution_count": 35,
     "metadata": {},
     "output_type": "execute_result"
    }
   ],
   "source": [
    "output\n"
   ]
  },
  {
   "cell_type": "code",
   "execution_count": 39,
   "metadata": {},
   "outputs": [],
   "source": [
    "path=\"Tamil/2.png\"\n"
   ]
  },
  {
   "cell_type": "code",
   "execution_count": 40,
   "metadata": {},
   "outputs": [],
   "source": [
    "output=reader1.readtext(path)"
   ]
  },
  {
   "cell_type": "code",
   "execution_count": 41,
   "metadata": {},
   "outputs": [
    {
     "data": {
      "text/plain": [
       "[([[208, 42], [356, 42], [356, 95], [208, 95]], 'குப்பை', 0.674456775188446),\n",
       " ([[185, 87], [381, 87], [381, 140], [185, 140]], 'போடாதே', 0.810430109500885),\n",
       " ([[182, 196], [380, 196], [380, 250], [182, 250]],\n",
       "  'வ0 _:{1}3^9',\n",
       "  6.182154174894094e-05)]"
      ]
     },
     "execution_count": 41,
     "metadata": {},
     "output_type": "execute_result"
    }
   ],
   "source": [
    "output\n"
   ]
  },
  {
   "cell_type": "code",
   "execution_count": 42,
   "metadata": {},
   "outputs": [],
   "source": [
    "path=\"Tamil/3.png\"\n"
   ]
  },
  {
   "cell_type": "code",
   "execution_count": 43,
   "metadata": {},
   "outputs": [],
   "source": [
    "output=reader1.readtext(path)"
   ]
  },
  {
   "cell_type": "code",
   "execution_count": 44,
   "metadata": {},
   "outputs": [
    {
     "data": {
      "text/plain": [
       "[([[126, 81], [361, 81], [361, 159], [126, 159]],\n",
       "  'நெல்லை',\n",
       "  0.4851081669330597),\n",
       " ([[379, 195], [449, 195], [449, 281], [379, 281]], 'ஈ', 0.014710390008985996),\n",
       " ([[397.7230723179238, 163.7061506225467],\n",
       "   [456.70005384828477, 143.0487783518748],\n",
       "   [467.2769276820762, 175.2938493774533],\n",
       "   [408.29994615171523, 195.9512216481252]],\n",
       "  'ம0ை',\n",
       "  0.0016634052153676748)]"
      ]
     },
     "execution_count": 44,
     "metadata": {},
     "output_type": "execute_result"
    }
   ],
   "source": [
    "output\n"
   ]
  },
  {
   "cell_type": "code",
   "execution_count": 45,
   "metadata": {},
   "outputs": [],
   "source": [
    "path=\"Tamil/4.png\"\n"
   ]
  },
  {
   "cell_type": "code",
   "execution_count": 46,
   "metadata": {},
   "outputs": [],
   "source": [
    "output=reader1.readtext(path)"
   ]
  },
  {
   "cell_type": "code",
   "execution_count": 47,
   "metadata": {},
   "outputs": [
    {
     "data": {
      "text/plain": [
       "[([[1243, 489], [1269, 489], [1269, 531], [1243, 531]],\n",
       "  '&',\n",
       "  0.8083282113075256),\n",
       " ([[611, 545], [1138, 545], [1138, 648], [611, 648]],\n",
       "  'வேண்டாம்',\n",
       "  0.5109129548072815),\n",
       " ([[1235, 527], [1275, 527], [1275, 611], [1235, 611]],\n",
       "  '8',\n",
       "  0.7430694103240967),\n",
       " ([[682, 744], [794, 744], [794, 774], [682, 774]],\n",
       "  '30.00 ணஸ',\n",
       "  0.18019169569015503),\n",
       " ([[731.4986120106269, 447.242921254197],\n",
       "   [998.38878559675, 413.7313827177552],\n",
       "   [1003.5013879893731, 523.757078745803],\n",
       "   [737.61121440325, 557.2686172822448]],\n",
       "  'துப்ப',\n",
       "  0.6113343238830566)]"
      ]
     },
     "execution_count": 47,
     "metadata": {},
     "output_type": "execute_result"
    }
   ],
   "source": [
    "output\n"
   ]
  },
  {
   "cell_type": "markdown",
   "metadata": {},
   "source": [
    "# English"
   ]
  },
  {
   "cell_type": "code",
   "execution_count": 48,
   "metadata": {},
   "outputs": [
    {
     "name": "stderr",
     "output_type": "stream",
     "text": [
      "Using CPU. Note: This module is much faster with a GPU.\n"
     ]
    }
   ],
   "source": [
    "reader1=easyocr.Reader(['en'],gpu=False)"
   ]
  },
  {
   "cell_type": "code",
   "execution_count": 49,
   "metadata": {},
   "outputs": [],
   "source": [
    "path=\"English/1.jpg\"\n"
   ]
  },
  {
   "cell_type": "code",
   "execution_count": 51,
   "metadata": {},
   "outputs": [],
   "source": [
    "output=reader1.readtext(path)"
   ]
  },
  {
   "cell_type": "code",
   "execution_count": 52,
   "metadata": {},
   "outputs": [
    {
     "data": {
      "text/plain": [
       "[([[787, 501], [1287, 501], [1287, 615], [787, 615]],\n",
       "  'WARNING!',\n",
       "  0.9002901911735535),\n",
       " ([[348, 591], [651, 591], [651, 765], [348, 765]],\n",
       "  'STOP',\n",
       "  0.8855541944503784),\n",
       " ([[820, 648], [1234, 648], [1234, 722], [820, 722]],\n",
       "  'Do not proceed until',\n",
       "  0.2612115740776062),\n",
       " ([[814, 707], [983, 707], [983, 771], [814, 771]],\n",
       "  'barrier is',\n",
       "  0.9590325355529785),\n",
       " ([[1075, 728], [1230, 728], [1230, 795], [1075, 795]],\n",
       "  'raised.',\n",
       "  0.9174646735191345),\n",
       " ([[882, 778], [944, 778], [944, 830], [882, 830]], 'No', 0.9112168550491333),\n",
       " ([[1312, 982], [1352, 982], [1352, 1030], [1312, 1030]],\n",
       "  '0',\n",
       "  0.629967451095581),\n",
       " ([[984.9666700642312, 715.0766894303488],\n",
       "   [1084.4767633364588, 732.3445270320519],\n",
       "   [1072.0333299357687, 795.9233105696512],\n",
       "   [971.5232366635412, 778.6554729679481]],\n",
       "  'fully',\n",
       "  0.5238282680511475),\n",
       " ([[948.0197874239789, 775.0602781342285],\n",
       "   [1151.882551701885, 804.6342113387823],\n",
       "   [1138.9802125760211, 871.9397218657715],\n",
       "   [934.117448298115, 842.3657886612177]],\n",
       "  'Tailgating',\n",
       "  0.9509202837944031),\n",
       " ([[1199.9666700642313, 953.0766894303488],\n",
       "   [1327.8003416084641, 976.3400740955717],\n",
       "   [1314.0333299357687, 1033.9233105696512],\n",
       "   [1187.1996583915359, 1010.6599259044283]],\n",
       "  'SEGR',\n",
       "  0.44780534505844116),\n",
       " ([[1201.5527864045, 1004.1055728090001],\n",
       "   [1237.987762965329, 1011.8440374265269],\n",
       "   [1235.4472135955, 1025.894427191],\n",
       "   [1198.012237034671, 1018.1559625734731]],\n",
       "  'eHL{',\n",
       "  9.058024261321407e-06),\n",
       " ([[1233.586197055699, 1010.0896335225374],\n",
       "   [1281.9966846158227, 1019.9186379905451],\n",
       "   [1279.413802944301, 1033.9103664774625],\n",
       "   [1231.0033153841773, 1024.081362009455]],\n",
       "  '8JS655[',\n",
       "  2.2046863250579918e-06),\n",
       " ([[1277.5342535671673, 1019.115081777618],\n",
       "   [1317.9857364255104, 1025.831703537108],\n",
       "   [1315.4657464328327, 1039.8849182223819],\n",
       "   [1275.0142635744896, 1033.168296462892]],\n",
       "  '\"0#5',\n",
       "  0.00043204909889027476)]"
      ]
     },
     "execution_count": 52,
     "metadata": {},
     "output_type": "execute_result"
    }
   ],
   "source": [
    "output\n"
   ]
  },
  {
   "cell_type": "code",
   "execution_count": 53,
   "metadata": {},
   "outputs": [],
   "source": [
    "path=\"English/2.jpg\"\n"
   ]
  },
  {
   "cell_type": "code",
   "execution_count": 54,
   "metadata": {},
   "outputs": [],
   "source": [
    "output=reader1.readtext(path)"
   ]
  },
  {
   "cell_type": "code",
   "execution_count": 55,
   "metadata": {},
   "outputs": [
    {
     "data": {
      "text/plain": [
       "[([[118, 96], [190, 96], [190, 120], [118, 120]], 'MEST', 0.12488201260566711),\n",
       " ([[58, 112], [104, 112], [104, 142], [58, 142]], '24)', 0.8522828817367554),\n",
       " ([[288, 112], [326, 112], [326, 142], [288, 142]],\n",
       "  '13)',\n",
       "  0.17458096146583557),\n",
       " ([[408, 106], [450, 106], [450, 132], [408, 132]], 'Wa', 0.997646689414978),\n",
       " ([[64, 142], [202, 142], [202, 174], [64, 174]],\n",
       "  'Oakland',\n",
       "  0.9154067635536194),\n",
       " ([[228, 135], [387, 135], [387, 183], [228, 183]],\n",
       "  'Berkeley',\n",
       "  0.769193708896637),\n",
       " ([[56, 178], [160, 178], [160, 202], [56, 202]],\n",
       "  'LEFT EYIT',\n",
       "  0.21462467312812805)]"
      ]
     },
     "execution_count": 55,
     "metadata": {},
     "output_type": "execute_result"
    }
   ],
   "source": [
    "output\n"
   ]
  },
  {
   "cell_type": "code",
   "execution_count": 56,
   "metadata": {},
   "outputs": [],
   "source": [
    "path=\"English/3.jpg\"\n"
   ]
  },
  {
   "cell_type": "code",
   "execution_count": 57,
   "metadata": {},
   "outputs": [],
   "source": [
    "output=reader1.readtext(path)"
   ]
  },
  {
   "cell_type": "code",
   "execution_count": 58,
   "metadata": {},
   "outputs": [
    {
     "data": {
      "text/plain": [
       "[([[22, 84], [92, 84], [92, 110], [22, 110]],\n",
       "  'Plecse be',\n",
       "  0.48087385296821594),\n",
       " ([[22, 106], [92, 106], [92, 130], [22, 130]], 'mindful', 0.6309430003166199),\n",
       " ([[22, 130], [46, 130], [46, 154], [22, 154]], 'cf', 0.8387121558189392),\n",
       " ([[22, 150], [100, 150], [100, 178], [22, 178]],\n",
       "  'distoncing',\n",
       "  0.19053134322166443),\n",
       " ([[40.33589941132431, 129.50384911698646],\n",
       "   [93.6013166274123, 124.50562661829505],\n",
       "   [94.6641005886757, 149.49615088301354],\n",
       "   [41.39868337258769, 154.49437338170495]],\n",
       "  'soaidl',\n",
       "  0.13529591262340546)]"
      ]
     },
     "execution_count": 58,
     "metadata": {},
     "output_type": "execute_result"
    }
   ],
   "source": [
    "output\n"
   ]
  },
  {
   "cell_type": "code",
   "execution_count": 59,
   "metadata": {},
   "outputs": [],
   "source": [
    "path=\"English/4.jpg\"\n"
   ]
  },
  {
   "cell_type": "code",
   "execution_count": 60,
   "metadata": {},
   "outputs": [],
   "source": [
    "output=reader1.readtext(path)"
   ]
  },
  {
   "cell_type": "code",
   "execution_count": 61,
   "metadata": {},
   "outputs": [
    {
     "data": {
      "text/plain": [
       "[([[787, 501], [1287, 501], [1287, 615], [787, 615]],\n",
       "  'WARNING!',\n",
       "  0.9002901911735535),\n",
       " ([[348, 591], [651, 591], [651, 765], [348, 765]],\n",
       "  'STOP',\n",
       "  0.8855541944503784),\n",
       " ([[820, 648], [1234, 648], [1234, 722], [820, 722]],\n",
       "  'Do not proceed until',\n",
       "  0.2612115740776062),\n",
       " ([[814, 707], [983, 707], [983, 771], [814, 771]],\n",
       "  'barrier is',\n",
       "  0.9590325355529785),\n",
       " ([[1075, 728], [1230, 728], [1230, 795], [1075, 795]],\n",
       "  'raised.',\n",
       "  0.9174646735191345),\n",
       " ([[882, 778], [944, 778], [944, 830], [882, 830]], 'No', 0.9112168550491333),\n",
       " ([[1312, 982], [1352, 982], [1352, 1030], [1312, 1030]],\n",
       "  '0',\n",
       "  0.629967451095581),\n",
       " ([[984.9666700642312, 715.0766894303488],\n",
       "   [1084.4767633364588, 732.3445270320519],\n",
       "   [1072.0333299357687, 795.9233105696512],\n",
       "   [971.5232366635412, 778.6554729679481]],\n",
       "  'fully',\n",
       "  0.5238282680511475),\n",
       " ([[948.0197874239789, 775.0602781342285],\n",
       "   [1151.882551701885, 804.6342113387823],\n",
       "   [1138.9802125760211, 871.9397218657715],\n",
       "   [934.117448298115, 842.3657886612177]],\n",
       "  'Tailgating',\n",
       "  0.9509202837944031),\n",
       " ([[1199.9666700642313, 953.0766894303488],\n",
       "   [1327.8003416084641, 976.3400740955717],\n",
       "   [1314.0333299357687, 1033.9233105696512],\n",
       "   [1187.1996583915359, 1010.6599259044283]],\n",
       "  'SEGR',\n",
       "  0.44780534505844116),\n",
       " ([[1201.5527864045, 1004.1055728090001],\n",
       "   [1237.987762965329, 1011.8440374265269],\n",
       "   [1235.4472135955, 1025.894427191],\n",
       "   [1198.012237034671, 1018.1559625734731]],\n",
       "  'eHL{',\n",
       "  9.058024261321407e-06),\n",
       " ([[1233.586197055699, 1010.0896335225374],\n",
       "   [1281.9966846158227, 1019.9186379905451],\n",
       "   [1279.413802944301, 1033.9103664774625],\n",
       "   [1231.0033153841773, 1024.081362009455]],\n",
       "  '8JS655[',\n",
       "  2.2046863250579918e-06),\n",
       " ([[1277.5342535671673, 1019.115081777618],\n",
       "   [1317.9857364255104, 1025.831703537108],\n",
       "   [1315.4657464328327, 1039.8849182223819],\n",
       "   [1275.0142635744896, 1033.168296462892]],\n",
       "  '\"0#5',\n",
       "  0.00043204909889027476)]"
      ]
     },
     "execution_count": 61,
     "metadata": {},
     "output_type": "execute_result"
    }
   ],
   "source": [
    "output\n"
   ]
  },
  {
   "cell_type": "markdown",
   "metadata": {},
   "source": [
    "# Hindi"
   ]
  },
  {
   "cell_type": "code",
   "execution_count": 62,
   "metadata": {},
   "outputs": [
    {
     "name": "stderr",
     "output_type": "stream",
     "text": [
      "Using CPU. Note: This module is much faster with a GPU.\n"
     ]
    }
   ],
   "source": [
    "reader1=easyocr.Reader(['hi'],gpu=False)"
   ]
  },
  {
   "cell_type": "code",
   "execution_count": 64,
   "metadata": {},
   "outputs": [],
   "source": [
    "path=\"Hindi/1.jpg\"\n"
   ]
  },
  {
   "cell_type": "code",
   "execution_count": 65,
   "metadata": {},
   "outputs": [],
   "source": [
    "output=reader1.readtext(path)"
   ]
  },
  {
   "cell_type": "code",
   "execution_count": 66,
   "metadata": {},
   "outputs": [
    {
     "data": {
      "text/plain": [
       "[([[55, 90], [676, 90], [676, 337], [55, 337]], 'रूकिये', 0.17674776911735535)]"
      ]
     },
     "execution_count": 66,
     "metadata": {},
     "output_type": "execute_result"
    }
   ],
   "source": [
    "output\n"
   ]
  },
  {
   "cell_type": "code",
   "execution_count": 67,
   "metadata": {},
   "outputs": [],
   "source": [
    "path=\"Hindi/2.jpg\"\n"
   ]
  },
  {
   "cell_type": "code",
   "execution_count": 68,
   "metadata": {},
   "outputs": [],
   "source": [
    "output=reader1.readtext(path)"
   ]
  },
  {
   "cell_type": "code",
   "execution_count": 69,
   "metadata": {},
   "outputs": [
    {
     "data": {
      "text/plain": [
       "[([[357, 165], [508, 165], [508, 221], [357, 221]],\n",
       "  'नरसिंहपुर',\n",
       "  0.5684723258018494),\n",
       " ([[358, 218], [488, 218], [488, 242], [358, 242]],\n",
       "  'क़\"$|ढ:लणर',\n",
       "  5.818836507387459e-05)]"
      ]
     },
     "execution_count": 69,
     "metadata": {},
     "output_type": "execute_result"
    }
   ],
   "source": [
    "output\n"
   ]
  },
  {
   "cell_type": "code",
   "execution_count": 70,
   "metadata": {},
   "outputs": [],
   "source": [
    "path=\"Hindi/3.jpg\"\n"
   ]
  },
  {
   "cell_type": "code",
   "execution_count": 71,
   "metadata": {},
   "outputs": [],
   "source": [
    "output=reader1.readtext(path)"
   ]
  },
  {
   "cell_type": "code",
   "execution_count": 72,
   "metadata": {},
   "outputs": [
    {
     "data": {
      "text/plain": [
       "[([[38, 15], [254, 15], [254, 83], [38, 83]],\n",
       "  'फोटो खींचना',\n",
       "  0.1937389224767685),\n",
       " ([[94, 74], [212, 74], [212, 124], [94, 124]], 'मना हे|', 0.1215226799249649),\n",
       " ([[35, 118], [274, 118], [274, 180], [35, 180]],\n",
       "  'क़=07कक4शख}',\n",
       "  8.600133878644556e-05),\n",
       " ([[21, 166], [285, 166], [285, 227], [21, 227]],\n",
       "  '$ शब0=|8च7६२',\n",
       "  3.7050181163067464e-06)]"
      ]
     },
     "execution_count": 72,
     "metadata": {},
     "output_type": "execute_result"
    }
   ],
   "source": [
    "output\n"
   ]
  },
  {
   "cell_type": "code",
   "execution_count": 73,
   "metadata": {},
   "outputs": [],
   "source": [
    "path=\"Hindi/4.jpg\"\n"
   ]
  },
  {
   "cell_type": "code",
   "execution_count": 74,
   "metadata": {},
   "outputs": [],
   "source": [
    "output=reader1.readtext(path)"
   ]
  },
  {
   "cell_type": "code",
   "execution_count": 75,
   "metadata": {},
   "outputs": [
    {
     "data": {
      "text/plain": [
       "[([[186, 124], [560, 124], [560, 276], [186, 276]],\n",
       "  'बैट्री चार्जर',\n",
       "  0.2687526047229767),\n",
       " ([[288, 257], [433, 257], [433, 331], [288, 331]], 'रूम', 0.6305293440818787)]"
      ]
     },
     "execution_count": 75,
     "metadata": {},
     "output_type": "execute_result"
    }
   ],
   "source": [
    "output\n"
   ]
  },
  {
   "cell_type": "code",
   "execution_count": 6,
   "metadata": {},
   "outputs": [
    {
     "name": "stdout",
     "output_type": "stream",
     "text": [
      "रूकिये\n"
     ]
    }
   ],
   "source": [
    "for i in output:\n",
    "    print(i[1])"
   ]
  },
  {
   "cell_type": "code",
   "execution_count": null,
   "metadata": {},
   "outputs": [],
   "source": []
  }
 ],
 "metadata": {
  "kernelspec": {
   "display_name": "Python 3",
   "language": "python",
   "name": "python3"
  },
  "language_info": {
   "codemirror_mode": {
    "name": "ipython",
    "version": 3
   },
   "file_extension": ".py",
   "mimetype": "text/x-python",
   "name": "python",
   "nbconvert_exporter": "python",
   "pygments_lexer": "ipython3",
   "version": "3.7.6"
  }
 },
 "nbformat": 4,
 "nbformat_minor": 4
}
